{
  "cells": [
    {
      "cell_type": "code",
      "execution_count": 1,
      "metadata": {
        "id": "Yizd1QMKgAN_"
      },
      "outputs": [
        {
          "name": "stdout",
          "output_type": "stream",
          "text": [
            "WARNING:tensorflow:From c:\\Users\\PC\\anaconda3\\Lib\\site-packages\\keras\\src\\losses.py:2976: The name tf.losses.sparse_softmax_cross_entropy is deprecated. Please use tf.compat.v1.losses.sparse_softmax_cross_entropy instead.\n",
            "\n"
          ]
        }
      ],
      "source": [
        "import numpy as np\n",
        "from tensorflow import keras\n",
        "from keras.datasets import imdb"
      ]
    },
    {
      "cell_type": "code",
      "execution_count": 2,
      "metadata": {
        "id": "dYlhbsZmgMmC"
      },
      "outputs": [
        {
          "name": "stdout",
          "output_type": "stream",
          "text": [
            "Downloading data from https://storage.googleapis.com/tensorflow/tf-keras-datasets/imdb.npz\n",
            "17464789/17464789 [==============================] - 4s 0us/step\n"
          ]
        }
      ],
      "source": [
        "(train_data, train_labels), (test_data, test_labels) = imdb.load_data(num_words=10000)"
      ]
    },
    {
      "cell_type": "code",
      "execution_count": 3,
      "metadata": {
        "colab": {
          "base_uri": "https://localhost:8080/"
        },
        "id": "NxDvzynQWGBs",
        "outputId": "b13dd57b-f078-49e8-808f-bcc871326270"
      },
      "outputs": [
        {
          "name": "stdout",
          "output_type": "stream",
          "text": [
            "Downloading data from https://storage.googleapis.com/tensorflow/tf-keras-datasets/imdb_word_index.json\n",
            "1641221/1641221 [==============================] - 1s 0us/step\n",
            "? french horror cinema has seen something of a revival over the last couple of years with great films such as inside and ? romance ? on to the scene ? ? the revival just slightly but stands head and shoulders over most modern horror titles and is surely one of the best french horror films ever made ? was obviously shot on a low budget but this is made up for in far more ways than one by the originality of the film and this in turn is ? by the excellent writing and acting that ensure the film is a winner the plot focuses on two main ideas prison and black magic the central character is a man named ? sent to prison for fraud he is put in a cell with three others the quietly insane ? body building ? marcus and his retarded boyfriend daisy after a short while in the cell together they stumble upon a hiding place in the wall that contains an old ? after ? part of it they soon realise its magical powers and realise they may be able to use it to break through the prison walls br br black magic is a very interesting topic and i'm actually quite surprised that there aren't more films based on it as there's so much scope for things to do with it it's fair to say that ? makes the best of it's ? as despite it's ? the film never actually feels restrained and manages to flow well throughout director eric ? provides a great atmosphere for the film the fact that most of it takes place inside the central prison cell ? that the film feels very claustrophobic and this immensely benefits the central idea of the prisoners wanting to use magic to break out of the cell it's very easy to get behind them it's often said that the unknown is the thing that really ? people and this film proves that as the director ? that we can never really be sure of exactly what is round the corner and this helps to ensure that ? actually does manage to be quite frightening the film is memorable for a lot of reasons outside the central plot the characters are all very interesting in their own way and the fact that the book itself almost takes on its own character is very well done anyone worried that the film won't deliver by the end won't be disappointed either as the ending both makes sense and manages to be quite horrifying overall ? is a truly great horror film and one of the best of the decade highly recommended viewing\n"
          ]
        }
      ],
      "source": [
        "word_index = imdb.get_word_index()\n",
        "reverse_word_index = dict(\n",
        "    [(value, key) for (key, value) in word_index.items()]\n",
        ")\n",
        "decoded_review = ' '.join([reverse_word_index.get(i - 3, '?') for i in train_data[10]])\n",
        "print(decoded_review)"
      ]
    },
    {
      "cell_type": "code",
      "execution_count": 4,
      "metadata": {
        "id": "h77xF9DLgPso"
      },
      "outputs": [],
      "source": [
        "def vectorize_sequences(sequences, dimension=10000):\n",
        "    results = np.zeros((len(sequences), dimension))\n",
        "    for i, sequence in enumerate(sequences):\n",
        "        results[i, sequence] = 1.0\n",
        "    return results\n",
        "\n",
        "x_train = vectorize_sequences(train_data)\n",
        "y_train = np.asarray(train_labels).astype('float32')\n",
        "\n",
        "x_test = vectorize_sequences(test_data)\n",
        "y_test = np.asarray(test_labels).astype('float32')"
      ]
    },
    {
      "cell_type": "code",
      "execution_count": 5,
      "metadata": {
        "colab": {
          "base_uri": "https://localhost:8080/"
        },
        "id": "waw17I8Hfckv",
        "outputId": "a2f32a0d-4beb-4a6e-c3ba-7d6d3268f77f"
      },
      "outputs": [
        {
          "name": "stdout",
          "output_type": "stream",
          "text": [
            "(25000, 10000)\n"
          ]
        }
      ],
      "source": [
        "print(x_train.shape)"
      ]
    },
    {
      "cell_type": "code",
      "execution_count": 6,
      "metadata": {
        "id": "LmqOUtJIiisG"
      },
      "outputs": [
        {
          "name": "stdout",
          "output_type": "stream",
          "text": [
            "WARNING:tensorflow:From c:\\Users\\PC\\anaconda3\\Lib\\site-packages\\keras\\src\\backend.py:873: The name tf.get_default_graph is deprecated. Please use tf.compat.v1.get_default_graph instead.\n",
            "\n",
            "WARNING:tensorflow:From c:\\Users\\PC\\anaconda3\\Lib\\site-packages\\keras\\src\\optimizers\\__init__.py:309: The name tf.train.Optimizer is deprecated. Please use tf.compat.v1.train.Optimizer instead.\n",
            "\n"
          ]
        }
      ],
      "source": [
        "from keras.models import Sequential\n",
        "from keras.layers import Dense\n",
        "from keras import optimizers\n",
        "from keras import losses\n",
        "from keras import metrics\n",
        "\n",
        "\n",
        "model = Sequential([\n",
        "    Dense(16, activation='relu', input_shape=(10000,)),\n",
        "    Dense(16, activation='relu'),\n",
        "    Dense(1, activation='sigmoid'),                    \n",
        "])\n",
        "\n",
        "# model.compile(\n",
        "#     optimizer=optimizers.rmsprop_v2.RMSprop(lr=0.001),\n",
        "#     loss=losses.binary_crossentropy,\n",
        "#     metrics=[metrics.accuracy]\n",
        "# )\n",
        "model.compile(optimizer='rmsprop',\n",
        "              loss='binary_crossentropy',\n",
        "              metrics=['accuracy'])"
      ]
    },
    {
      "cell_type": "code",
      "execution_count": 7,
      "metadata": {
        "colab": {
          "base_uri": "https://localhost:8080/"
        },
        "id": "HbJmSjJKmpo1",
        "outputId": "1953d64a-b63f-4c22-a8db-ad083dcfd23b"
      },
      "outputs": [
        {
          "name": "stdout",
          "output_type": "stream",
          "text": [
            "Model: \"sequential\"\n",
            "_________________________________________________________________\n",
            " Layer (type)                Output Shape              Param #   \n",
            "=================================================================\n",
            " dense (Dense)               (None, 16)                160016    \n",
            "                                                                 \n",
            " dense_1 (Dense)             (None, 16)                272       \n",
            "                                                                 \n",
            " dense_2 (Dense)             (None, 1)                 17        \n",
            "                                                                 \n",
            "=================================================================\n",
            "Total params: 160305 (626.19 KB)\n",
            "Trainable params: 160305 (626.19 KB)\n",
            "Non-trainable params: 0 (0.00 Byte)\n",
            "_________________________________________________________________\n"
          ]
        }
      ],
      "source": [
        "model.summary()"
      ]
    },
    {
      "cell_type": "code",
      "execution_count": 8,
      "metadata": {
        "id": "Ju3vjLYtjgy-"
      },
      "outputs": [],
      "source": [
        "x_val = x_train[:10000]\n",
        "partial_x_train = x_train[10000:]\n",
        "\n",
        "y_val = y_train[:10000]\n",
        "partial_y_train = y_train[10000:]"
      ]
    },
    {
      "cell_type": "code",
      "execution_count": 9,
      "metadata": {
        "colab": {
          "base_uri": "https://localhost:8080/"
        },
        "id": "1lQvRtcHjoJS",
        "outputId": "e72b6a6a-6905-4629-f335-c950888a2178"
      },
      "outputs": [
        {
          "name": "stdout",
          "output_type": "stream",
          "text": [
            "Epoch 1/20\n",
            "WARNING:tensorflow:From c:\\Users\\PC\\anaconda3\\Lib\\site-packages\\keras\\src\\utils\\tf_utils.py:492: The name tf.ragged.RaggedTensorValue is deprecated. Please use tf.compat.v1.ragged.RaggedTensorValue instead.\n",
            "\n",
            "WARNING:tensorflow:From c:\\Users\\PC\\anaconda3\\Lib\\site-packages\\keras\\src\\engine\\base_layer_utils.py:384: The name tf.executing_eagerly_outside_functions is deprecated. Please use tf.compat.v1.executing_eagerly_outside_functions instead.\n",
            "\n",
            "30/30 [==============================] - 3s 75ms/step - loss: 0.5397 - accuracy: 0.7593 - val_loss: 0.3984 - val_accuracy: 0.8649\n",
            "Epoch 2/20\n",
            "30/30 [==============================] - 0s 12ms/step - loss: 0.3241 - accuracy: 0.8934 - val_loss: 0.3115 - val_accuracy: 0.8837\n",
            "Epoch 3/20\n",
            "30/30 [==============================] - 0s 11ms/step - loss: 0.2413 - accuracy: 0.9191 - val_loss: 0.3029 - val_accuracy: 0.8773\n",
            "Epoch 4/20\n",
            "30/30 [==============================] - 0s 11ms/step - loss: 0.1960 - accuracy: 0.9315 - val_loss: 0.2869 - val_accuracy: 0.8847\n",
            "Epoch 5/20\n",
            "30/30 [==============================] - 0s 11ms/step - loss: 0.1606 - accuracy: 0.9482 - val_loss: 0.3156 - val_accuracy: 0.8731\n",
            "Epoch 6/20\n",
            "30/30 [==============================] - 0s 10ms/step - loss: 0.1403 - accuracy: 0.9529 - val_loss: 0.3122 - val_accuracy: 0.8759\n",
            "Epoch 7/20\n",
            "30/30 [==============================] - 0s 10ms/step - loss: 0.1152 - accuracy: 0.9635 - val_loss: 0.3049 - val_accuracy: 0.8826\n",
            "Epoch 8/20\n",
            "30/30 [==============================] - 0s 10ms/step - loss: 0.1035 - accuracy: 0.9683 - val_loss: 0.3233 - val_accuracy: 0.8812\n",
            "Epoch 9/20\n",
            "30/30 [==============================] - 0s 10ms/step - loss: 0.0863 - accuracy: 0.9737 - val_loss: 0.3313 - val_accuracy: 0.8824\n",
            "Epoch 10/20\n",
            "30/30 [==============================] - 0s 10ms/step - loss: 0.0742 - accuracy: 0.9790 - val_loss: 0.3691 - val_accuracy: 0.8757\n",
            "Epoch 11/20\n",
            "30/30 [==============================] - 0s 10ms/step - loss: 0.0653 - accuracy: 0.9825 - val_loss: 0.3674 - val_accuracy: 0.8777\n",
            "Epoch 12/20\n",
            "30/30 [==============================] - 0s 10ms/step - loss: 0.0536 - accuracy: 0.9873 - val_loss: 0.4010 - val_accuracy: 0.8697\n",
            "Epoch 13/20\n",
            "30/30 [==============================] - 0s 10ms/step - loss: 0.0469 - accuracy: 0.9890 - val_loss: 0.4108 - val_accuracy: 0.8738\n",
            "Epoch 14/20\n",
            "30/30 [==============================] - 0s 10ms/step - loss: 0.0392 - accuracy: 0.9905 - val_loss: 0.4444 - val_accuracy: 0.8697\n",
            "Epoch 15/20\n",
            "30/30 [==============================] - 0s 10ms/step - loss: 0.0370 - accuracy: 0.9915 - val_loss: 0.4593 - val_accuracy: 0.8706\n",
            "Epoch 16/20\n",
            "30/30 [==============================] - 0s 9ms/step - loss: 0.0290 - accuracy: 0.9942 - val_loss: 0.4771 - val_accuracy: 0.8715\n",
            "Epoch 17/20\n",
            "30/30 [==============================] - 0s 10ms/step - loss: 0.0239 - accuracy: 0.9960 - val_loss: 0.5165 - val_accuracy: 0.8663\n",
            "Epoch 18/20\n",
            "30/30 [==============================] - 0s 11ms/step - loss: 0.0207 - accuracy: 0.9965 - val_loss: 0.5323 - val_accuracy: 0.8710\n",
            "Epoch 19/20\n",
            "30/30 [==============================] - 0s 9ms/step - loss: 0.0185 - accuracy: 0.9974 - val_loss: 0.5524 - val_accuracy: 0.8702\n",
            "Epoch 20/20\n",
            "30/30 [==============================] - 0s 9ms/step - loss: 0.0189 - accuracy: 0.9959 - val_loss: 0.5817 - val_accuracy: 0.8675\n"
          ]
        }
      ],
      "source": [
        "history = model.fit(\n",
        "    partial_x_train, \n",
        "    partial_y_train, \n",
        "    epochs=20,\n",
        "    batch_size=512,\n",
        "    validation_data=(x_val, y_val)\n",
        ")"
      ]
    },
    {
      "cell_type": "code",
      "execution_count": 10,
      "metadata": {
        "colab": {
          "base_uri": "https://localhost:8080/"
        },
        "id": "uf_NztGv55Nz",
        "outputId": "8a262347-2baa-4a65-e53f-7e334da624c6"
      },
      "outputs": [
        {
          "name": "stdout",
          "output_type": "stream",
          "text": [
            "dict_keys(['loss', 'accuracy', 'val_loss', 'val_accuracy'])\n"
          ]
        }
      ],
      "source": [
        "print(history.history.keys())"
      ]
    },
    {
      "cell_type": "markdown",
      "metadata": {
        "id": "mUsgIuMu59Gv"
      },
      "source": []
    },
    {
      "cell_type": "code",
      "execution_count": 11,
      "metadata": {
        "colab": {
          "base_uri": "https://localhost:8080/",
          "height": 590
        },
        "id": "Qzj6P1D8kOMc",
        "outputId": "c62ad958-bb2a-458a-af6d-b40a97b980ed"
      },
      "outputs": [
        {
          "data": {
            "image/png": "[encoded data removed]",
            "text/plain": [
              "<Figure size 640x480 with 1 Axes>"
            ]
          },
          "metadata": {},
          "output_type": "display_data"
        },
        {
          "data": {
            "text/plain": [
              "<matplotlib.legend.Legend at 0x229bf5f94d0>"
            ]
          },
          "execution_count": 11,
          "metadata": {},
          "output_type": "execute_result"
        },
        {
          "data": {
            "image/png": "[encoded data removed]",
            "text/plain": [
              "<Figure size 640x480 with 1 Axes>"
            ]
          },
          "metadata": {},
          "output_type": "display_data"
        }
      ],
      "source": [
        "import matplotlib.pyplot as plt\n",
        "\n",
        "\n",
        "history_dict = history.history\n",
        "loss_values = history_dict['loss']\n",
        "val_loss_values = history_dict['val_loss']\n",
        "\n",
        "epochs = range(1, len(history_dict['accuracy']) + 1)\n",
        "\n",
        "plt.plot(epochs, loss_values, 'bo', label='Training loss')\n",
        "plt.plot(epochs, val_loss_values, 'b', label='Validation loss')\n",
        "plt.title('Training and validation loss')\n",
        "plt.xlabel('Epochs')\n",
        "plt.ylabel('Loss')\n",
        "plt.legend()\n",
        "plt.show()\n",
        "\n",
        "plt.clf()\n",
        "val_acc_values = history_dict['val_accuracy']\n",
        "plt.plot(epochs, history_dict['accuracy'], 'bo', label='Training acc')\n",
        "plt.plot(epochs, history_dict['val_accuracy'], 'b', label='Validation acc')\n",
        "plt.title('Training and validation accuracy')\n",
        "plt.xlabel('Epochs')\n",
        "plt.ylabel('Loss')\n",
        "plt.legend()"
      ]
    },
    {
      "cell_type": "code",
      "execution_count": 12,
      "metadata": {
        "colab": {
          "base_uri": "https://localhost:8080/"
        },
        "id": "5QtZcEvKm8MO",
        "outputId": "fcfc1b25-e6e0-4f18-80f5-858fb549e915"
      },
      "outputs": [
        {
          "name": "stdout",
          "output_type": "stream",
          "text": [
            "782/782 [==============================] - 1s 1ms/step - loss: 0.6282 - accuracy: 0.8579\n",
            "[0.6281520128250122, 0.8579199910163879]\n"
          ]
        }
      ],
      "source": [
        "results = model.evaluate(x_test, y_test)\n",
        "print(results)"
      ]
    },
    {
      "cell_type": "code",
      "execution_count": 13,
      "metadata": {
        "colab": {
          "base_uri": "https://localhost:8080/"
        },
        "id": "sI_Og5f6m-n5",
        "outputId": "00fcf72b-a5ad-4a27-c33d-84049fac788e"
      },
      "outputs": [
        {
          "name": "stdout",
          "output_type": "stream",
          "text": [
            "1/1 [==============================] - 0s 186ms/step\n",
            "[[0.01060429]]\n"
          ]
        }
      ],
      "source": [
        "result = model.predict(x_test[0, :].reshape(1, 10000))\n",
        "print(result)"
      ]
    },
    {
      "cell_type": "code",
      "execution_count": 14,
      "metadata": {
        "colab": {
          "base_uri": "https://localhost:8080/"
        },
        "id": "zwaA6jCS-mwt",
        "outputId": "004d0270-dccc-49e4-92aa-9590e5ce7e4c"
      },
      "outputs": [
        {
          "name": "stdout",
          "output_type": "stream",
          "text": [
            "Epoch 1/4\n",
            "49/49 [==============================] - 1s 7ms/step - loss: 0.4682 - accuracy: 0.8129\n",
            "Epoch 2/4\n",
            "49/49 [==============================] - 0s 6ms/step - loss: 0.2718 - accuracy: 0.9044\n",
            "Epoch 3/4\n",
            "49/49 [==============================] - 0s 7ms/step - loss: 0.2130 - accuracy: 0.9236\n",
            "Epoch 4/4\n",
            "49/49 [==============================] - 0s 6ms/step - loss: 0.1822 - accuracy: 0.9342\n",
            "782/782 [==============================] - 1s 1ms/step - loss: 0.3548 - accuracy: 0.8590\n",
            "[0.35480764508247375, 0.8590400218963623]\n"
          ]
        }
      ],
      "source": [
        "from keras import layers\n",
        "\n",
        "model = Sequential()\n",
        "model.add(layers.Dense(16, activation='relu', input_shape=(10000,)))\n",
        "model.add(layers.Dense(16, activation='relu'))\n",
        "model.add(layers.Dense(1, activation='sigmoid'))\n",
        "model.compile(optimizer='rmsprop',\n",
        "              loss='binary_crossentropy',\n",
        "              metrics=['accuracy'])\n",
        "model.fit(x_train, y_train, epochs=4, batch_size=512)\n",
        "results = model.evaluate(x_test, y_test)\n",
        "print(results)"
      ]
    },
    {
      "cell_type": "code",
      "execution_count": 15,
      "metadata": {
        "colab": {
          "base_uri": "https://localhost:8080/"
        },
        "id": "PwNziVS2DCH3",
        "outputId": "f6e4cd8b-d4e2-446c-9537-a4daf7009528"
      },
      "outputs": [
        {
          "name": "stdout",
          "output_type": "stream",
          "text": [
            "782/782 [==============================] - 1s 1ms/step - loss: 0.3548 - accuracy: 0.8590\n",
            "1/1 [==============================] - 0s 343ms/step\n",
            "[[0.12580854]]\n"
          ]
        }
      ],
      "source": [
        "results = model.evaluate(x_test, y_test)\n",
        "result = model.predict(x_test[0, :].reshape(1, 10000))\n",
        "print(result)"
      ]
    }
  ],
  "metadata": {
    "accelerator": "GPU",
    "colab": {
      "collapsed_sections": [],
      "name": "keras_imbd.ipynb",
      "provenance": []
    },
    "kernelspec": {
      "display_name": "Python 3",
      "name": "python3"
    },
    "language_info": {
      "codemirror_mode": {
        "name": "ipython",
        "version": 3
      },
      "file_extension": ".py",
      "mimetype": "text/x-python",
      "name": "python",
      "nbconvert_exporter": "python",
      "pygments_lexer": "ipython3",
      "version": "3.11.5"
    }
  },
  "nbformat": 4,
  "nbformat_minor": 0
}
